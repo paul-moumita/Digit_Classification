{
 "cells": [
  {
   "cell_type": "code",
   "execution_count": 1,
   "metadata": {},
   "outputs": [],
   "source": [
    "import torch\n",
    "import numpy as np\n",
    "import matplotlib.pyplot as plt\n",
    "import pandas as pd\n",
    "\n",
    "from torch.utils.data import Dataset,DataLoader\n",
    "\n",
    "import torch.nn as nn\n",
    "import torch.nn.functional as F\n",
    "import torch.optim as optim\n",
    "from torch.autograd import Variable\n",
    "\n",
    "torch.manual_seed(0)\n",
    "\n",
    "use_cuda = torch.cuda.is_available()\n",
    "device = torch.device(\"cuda\" if use_cuda else \"cpu\")"
   ]
  },
  {
   "cell_type": "code",
   "execution_count": 2,
   "metadata": {},
   "outputs": [],
   "source": [
    "class MnistDataset(Dataset):\n",
    "    def __init__(self,path,transform=None):\n",
    "        #loading dataframe as data\n",
    "        data=pd.read_csv(path)\n",
    "        #x is for the 28x28 mnist digit image matrix\n",
    "        self.x=data.iloc[:,1:].values\n",
    "        #y is for the label\n",
    "        self.y=data.iloc[:,0]\n",
    "        #num_samples gives number of images\n",
    "        self.num_samples=len(data)\n",
    "        self.transform=transform\n",
    "        \n",
    "    def __getitem__(self,index):\n",
    "        sample=self.x[index],np.array(self.y[index])\n",
    "        if self.transform is not None:\n",
    "            sample=self.transform(sample)\n",
    "        return sample\n",
    "    \n",
    "    def __len__(self):\n",
    "        return self.num_samples\n",
    "\n",
    "class ToTensor:\n",
    "    def __call__(self,sample):\n",
    "        inputs,target=sample\n",
    "        #from_numpy converts numpy arrays to tensors\n",
    "        return torch.from_numpy(inputs),torch.from_numpy(target)"
   ]
  },
  {
   "cell_type": "code",
   "execution_count": 3,
   "metadata": {},
   "outputs": [],
   "source": [
    "# Loading data from csv files\n",
    "train_path='./Data/mnist_train.csv'\n",
    "test_path='./Data/mnist_test.csv'\n",
    "train_set=MnistDataset(train_path,transform=ToTensor())\n",
    "test_set=MnistDataset(test_path,transform=ToTensor())"
   ]
  },
  {
   "cell_type": "code",
   "execution_count": 4,
   "metadata": {},
   "outputs": [
    {
     "data": {
      "text/plain": [
       "<matplotlib.image.AxesImage at 0x7f13c4010f10>"
      ]
     },
     "execution_count": 4,
     "metadata": {},
     "output_type": "execute_result"
    },
    {
     "data": {
      "image/png": "[encoded data removed]",
      "text/plain": [
       "<Figure size 432x288 with 1 Axes>"
      ]
     },
     "metadata": {
      "needs_background": "light"
     },
     "output_type": "display_data"
    }
   ],
   "source": [
    "# plot train and test data\n",
    "train_data=train_set[0]\n",
    "plt.imshow(train_data[0].numpy().reshape(28,28))\n",
    "test_data=test_set[0]\n",
    "plt.imshow(test_data[0].numpy().reshape(28,28))\n",
    "\n",
    "# Dataloader pytorch\n",
    "train_loader=DataLoader(train_set,batch_size=32,shuffle=True)\n",
    "test_loader=DataLoader(test_set,batch_size=32,shuffle=True)\n",
    "\n",
    "# plot from data loader\n",
    "plt.imshow(iter(train_loader).next()[0][1].reshape(28,28))"
   ]
  },
  {
   "cell_type": "code",
   "execution_count": 5,
   "metadata": {},
   "outputs": [
    {
     "data": {
      "text/plain": [
       "CustomVGG(\n",
       "  (features): Sequential(\n",
       "    (0): Conv2d(1, 64, kernel_size=(3, 3), stride=(1, 1))\n",
       "    (1): BatchNorm2d(64, eps=1e-05, momentum=0.1, affine=True, track_running_stats=True)\n",
       "    (2): LeakyReLU(negative_slope=0.2, inplace=True)\n",
       "    (3): Conv2d(64, 128, kernel_size=(3, 3), stride=(1, 1))\n",
       "    (4): BatchNorm2d(128, eps=1e-05, momentum=0.1, affine=True, track_running_stats=True)\n",
       "    (5): LeakyReLU(negative_slope=0.2, inplace=True)\n",
       "    (6): MaxPool2d(kernel_size=2, stride=2, padding=0, dilation=1, ceil_mode=False)\n",
       "    (7): Conv2d(128, 256, kernel_size=(3, 3), stride=(1, 1))\n",
       "    (8): BatchNorm2d(256, eps=1e-05, momentum=0.1, affine=True, track_running_stats=True)\n",
       "    (9): LeakyReLU(negative_slope=0.2, inplace=True)\n",
       "    (10): MaxPool2d(kernel_size=2, stride=2, padding=0, dilation=1, ceil_mode=False)\n",
       "    (11): Conv2d(256, 512, kernel_size=(3, 3), stride=(1, 1))\n",
       "    (12): BatchNorm2d(512, eps=1e-05, momentum=0.1, affine=True, track_running_stats=True)\n",
       "    (13): LeakyReLU(negative_slope=0.2, inplace=True)\n",
       "    (14): MaxPool2d(kernel_size=2, stride=2, padding=0, dilation=1, ceil_mode=False)\n",
       "    (15): AvgPool2d(kernel_size=1, stride=1, padding=0)\n",
       "    (16): Dropout(p=0.2, inplace=False)\n",
       "  )\n",
       "  (classifier): Sequential(\n",
       "    (0): Dropout(p=0.5, inplace=False)\n",
       "    (1): Linear(in_features=512, out_features=128, bias=True)\n",
       "    (2): LeakyReLU(negative_slope=0.2, inplace=True)\n",
       "    (3): Dropout(p=0.5, inplace=False)\n",
       "    (4): Linear(in_features=128, out_features=64, bias=True)\n",
       "    (5): LeakyReLU(negative_slope=0.2, inplace=True)\n",
       "    (6): Dropout(p=0.5, inplace=False)\n",
       "    (7): Linear(in_features=64, out_features=10, bias=True)\n",
       "  )\n",
       ")"
      ]
     },
     "execution_count": 5,
     "metadata": {},
     "output_type": "execute_result"
    }
   ],
   "source": [
    "def softmax(x):\n",
    "    exp_x = torch.exp(x)\n",
    "    sum_x = torch.sum(exp_x, dim=1, keepdim=True)\n",
    "\n",
    "    return exp_x/sum_x\n",
    "\n",
    "def log_softmax(x):\n",
    "    return torch.log(softmax(x))\n",
    "\n",
    "# Custom-Cross-entropy\n",
    "# def myCrossEntropyLoss(outputs, targets):\n",
    "#     num_examples = targets.shape[0]\n",
    "#     batch_size = outputs.shape[0]\n",
    "#     outputs = log_softmax(outputs)\n",
    "#     outputs = outputs[range(batch_size), targets]\n",
    " \n",
    "#     return - torch.sum(outputs)/num_examples\n",
    "\n",
    "\n",
    "\n",
    "# Modified VGG with additional fully connected layers and Dropouts\n",
    "class CustomVGG(nn.Module):\n",
    "    def __init__(self):\n",
    "        super(CustomVGG, self).__init__()\n",
    "        cfg = [64, 128, 'M', 256, 'M', 512, 'M']\n",
    "        self.features = self._make_layers(cfg)\n",
    "        self.classifier = self._classifier_layers()\n",
    "\n",
    "    def forward(self, x):\n",
    "        out = self.features(x)\n",
    "        out = out.view(out.size(0), -1)\n",
    "        out = self.classifier(out)\n",
    "        return out\n",
    "\n",
    "    def _make_layers(self,cfg):\n",
    "        layers = []\n",
    "        in_channels = 1\n",
    "        \n",
    "        for x in cfg:\n",
    "            if x == 'M':\n",
    "                layers += [nn.MaxPool2d(kernel_size=2, stride=2)]\n",
    "            else:\n",
    "                layers += [nn.Conv2d(in_channels, x, kernel_size=3, padding=0),\n",
    "                           nn.BatchNorm2d(x),\n",
    "                           nn.LeakyReLU(0.2,inplace=True)]\n",
    "                in_channels = x\n",
    "        layers += [nn.AvgPool2d(kernel_size=1, stride=1)]\n",
    "        layers += [nn.Dropout(0.2)]\n",
    "        return nn.Sequential(*layers)\n",
    "    \n",
    "    def _classifier_layers(self):\n",
    "        layers = []\n",
    "        layers += [nn.Dropout(0.5),\n",
    "                   nn.Linear(512, 128),\n",
    "                   nn.LeakyReLU(0.2,inplace=True),\n",
    "                   nn.Dropout(0.5),\n",
    "                   nn.Linear(128, 64),\n",
    "                   nn.LeakyReLU(0.2,inplace=True),\n",
    "                   nn.Dropout(0.5),\n",
    "                   nn.Linear(64,10)]\n",
    "        return nn.Sequential(*layers)\n",
    "        \n",
    "        \n",
    "model=CustomVGG()\n",
    "model.to(device)"
   ]
  },
  {
   "cell_type": "code",
   "execution_count": 6,
   "metadata": {},
   "outputs": [],
   "source": [
    "train_loss = []\n",
    "train_acc = []\n",
    "test_loss = []\n",
    "test_acc = []\n",
    "test_labels = []\n",
    "\n",
    "num_epochs = 10\n",
    "def train(model, device,train_loader, optimizer, epoch):\n",
    "    loss_tr = 0\n",
    "    count = 0\n",
    "    correct = 0\n",
    "    model.train()\n",
    "    criterion = nn.CrossEntropyLoss()\n",
    "    for batch_idx, (data, target) in enumerate(train_loader):\n",
    "        data, target = data.to(device), target.to(device)\n",
    "        data = data.reshape(-1,1,28,28).float().to(device)\n",
    "        optimizer.zero_grad()\n",
    "        output = model(data)\n",
    "\n",
    "        loss = criterion(output, target)\n",
    "        loss_tr += loss.item()\n",
    "        count += 1\n",
    "        loss.backward()\n",
    "        optimizer.step()\n",
    "        \n",
    "        pred = output.max(1, keepdim=True)[1] \n",
    "        correct += pred.eq(target.view_as(pred)).sum().item()\n",
    "        if(epoch == num_epochs-1):\n",
    "          test_labels.append(pred.cpu().numpy())\n",
    "    \n",
    "    loss_tr /= count\n",
    "    train_loss.append(loss_tr)\n",
    "    train_acc.append(100. * correct / len(train_loader.dataset))\n",
    "    print('\\nTrain set: Average loss: {:.4f}, Accuracy: {:.0f}%\\n'.format(\n",
    "        loss_tr,100. * correct / len(train_loader.dataset)))\n",
    "        \n",
    "\n",
    "def test(model,device, test_loader):\n",
    "    model.eval()\n",
    "    testloss = 0\n",
    "    correct = 0\n",
    "    count = 0\n",
    "    test_label = []\n",
    "    criterion = nn.CrossEntropyLoss()\n",
    "    with torch.no_grad():\n",
    "    # Pytorch wont do autonmatic gradient computation for this section\n",
    "        for data, target in test_loader:\n",
    "            data, target = data.to(device), target.to(device)\n",
    "            data = data.reshape(-1,1,28,28).float().to(device)\n",
    "            output = model(data)\n",
    "            testloss += criterion(output, target).item()\n",
    "            count += 1\n",
    "            # Extracting index of max log-probability\n",
    "            pred = output.max(1, keepdim=True)[1]\n",
    "            correct += pred.eq(target.view_as(pred)).sum().item()\n",
    "      \n",
    "    testloss /= count\n",
    "    test_loss.append(testloss)\n",
    "    test_acc.append(100. * correct / len(test_loader.dataset))\n",
    "    print('Test set: Average loss: {:.4f}, Accuracy: {:.0f}%\\n'.format(\n",
    "        testloss,100. * correct / len(test_loader.dataset)))\n",
    "    print(50*\"-\")"
   ]
  },
  {
   "cell_type": "code",
   "execution_count": 7,
   "metadata": {},
   "outputs": [
    {
     "name": "stdout",
     "output_type": "stream",
     "text": [
      "Epoch :  1\n",
      "\n",
      "Train set: Average loss: 0.2705, Accuracy: 92%\n",
      "\n",
      "Test set: Average loss: 0.0438, Accuracy: 99%\n",
      "\n",
      "--------------------------------------------------\n",
      "Epoch :  2\n",
      "\n",
      "Train set: Average loss: 0.1097, Accuracy: 97%\n",
      "\n",
      "Test set: Average loss: 0.0486, Accuracy: 98%\n",
      "\n",
      "--------------------------------------------------\n",
      "Epoch :  3\n",
      "\n",
      "Train set: Average loss: 0.0864, Accuracy: 98%\n",
      "\n",
      "Test set: Average loss: 0.0363, Accuracy: 99%\n",
      "\n",
      "--------------------------------------------------\n",
      "Epoch :  4\n",
      "\n",
      "Train set: Average loss: 0.0702, Accuracy: 98%\n",
      "\n",
      "Test set: Average loss: 0.0321, Accuracy: 99%\n",
      "\n",
      "--------------------------------------------------\n",
      "Epoch :  5\n",
      "\n",
      "Train set: Average loss: 0.0599, Accuracy: 98%\n",
      "\n",
      "Test set: Average loss: 0.0357, Accuracy: 99%\n",
      "\n",
      "--------------------------------------------------\n",
      "Epoch :  6\n",
      "\n",
      "Train set: Average loss: 0.0523, Accuracy: 99%\n",
      "\n",
      "Test set: Average loss: 0.0297, Accuracy: 99%\n",
      "\n",
      "--------------------------------------------------\n",
      "Epoch :  7\n",
      "\n",
      "Train set: Average loss: 0.0454, Accuracy: 99%\n",
      "\n",
      "Test set: Average loss: 0.0369, Accuracy: 99%\n",
      "\n",
      "--------------------------------------------------\n",
      "Epoch :  8\n",
      "\n",
      "Train set: Average loss: 0.0427, Accuracy: 99%\n",
      "\n",
      "Test set: Average loss: 0.0297, Accuracy: 99%\n",
      "\n",
      "--------------------------------------------------\n",
      "Epoch :  9\n",
      "\n",
      "Train set: Average loss: 0.0385, Accuracy: 99%\n",
      "\n",
      "Test set: Average loss: 0.0277, Accuracy: 99%\n",
      "\n",
      "--------------------------------------------------\n"
     ]
    }
   ],
   "source": [
    "optimizer = optim.SGD(model.parameters(), lr=0.01, momentum=0.9)\n",
    "# optimizer = optim.Adam(model.parameters(), lr=0.02)\n",
    "\n",
    "for epoch in range(1, num_epochs):\n",
    "    print(\"Epoch : \", epoch)\n",
    "    train(model,device, train_loader, optimizer, epoch)\n",
    "    test(model,device, test_loader)"
   ]
  },
  {
   "cell_type": "code",
   "execution_count": 8,
   "metadata": {},
   "outputs": [
    {
     "data": {
      "image/png": "[encoded data removed]",
      "text/plain": [
       "<Figure size 432x288 with 1 Axes>"
      ]
     },
     "metadata": {
      "needs_background": "light"
     },
     "output_type": "display_data"
    },
    {
     "data": {
      "image/png": "[encoded data removed]",
      "text/plain": [
       "<Figure size 432x288 with 1 Axes>"
      ]
     },
     "metadata": {
      "needs_background": "light"
     },
     "output_type": "display_data"
    },
    {
     "name": "stdout",
     "output_type": "stream",
     "text": [
      "98.95498258304305\n",
      "99.21992199219922\n"
     ]
    }
   ],
   "source": [
    "plt.plot(train_loss)\n",
    "plt.plot(test_loss)\n",
    "plt.title('model loss')\n",
    "plt.ylabel('loss')\n",
    "plt.xlabel('epoch')\n",
    "plt.legend(['train', 'test'], loc='upper left')\n",
    "plt.show()\n",
    "\n",
    "plt.plot(train_acc)\n",
    "plt.plot(test_acc)\n",
    "plt.title('model accuracy')\n",
    "plt.ylabel('acc')\n",
    "plt.xlabel('epoch')\n",
    "plt.legend(['train', 'test'], loc='upper left')\n",
    "plt.show()\n",
    "\n",
    "print(train_acc[-1])\n",
    "print(test_acc[-1])"
   ]
  },
  {
   "cell_type": "code",
   "execution_count": null,
   "metadata": {},
   "outputs": [],
   "source": []
  },
  {
   "cell_type": "code",
   "execution_count": null,
   "metadata": {},
   "outputs": [],
   "source": []
  },
  {
   "cell_type": "code",
   "execution_count": null,
   "metadata": {},
   "outputs": [],
   "source": []
  }
 ],
 "metadata": {
  "kernelspec": {
   "display_name": "Python 3",
   "language": "python",
   "name": "python3"
  },
  "language_info": {
   "codemirror_mode": {
    "name": "ipython",
    "version": 3
   },
   "file_extension": ".py",
   "mimetype": "text/x-python",
   "name": "python",
   "nbconvert_exporter": "python",
   "pygments_lexer": "ipython3",
   "version": "3.7.6"
  }
 },
 "nbformat": 4,
 "nbformat_minor": 2
}
